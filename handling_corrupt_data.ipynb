{
 "cells": [
  {
   "cell_type": "markdown",
   "metadata": {},
   "source": [
    "<div style=\"border:solid grey 2px; padding: 20px\"> \n",
    "\n",
    "# Analyzing borrowers’ risk of defaulting\n",
    "\n",
    "Your project is to prepare a report for a bank’s loan division. You’ll need to find out if a customer’s marital status and number of children has an impact on whether they will default on a loan. The bank already has some data on customers’ credit worthiness.\n",
    "\n",
    "Your report will be considered when building a **credit scoring** of a potential customer. A ** credit scoring ** is used to evaluate the ability of a potential borrower to repay their loan."
   ]
  },
  {
   "cell_type": "markdown",
   "metadata": {},
   "source": [
    "## Open the data file and have a look at the general information. "
   ]
  },
  {
   "cell_type": "code",
   "execution_count": 96,
   "metadata": {},
   "outputs": [],
   "source": [
    "import pandas as pd\n",
    "import matplotlib.pyplot as plt \n",
    "import warnings\n",
    "import nltk\n",
    "from nltk.stem import WordNetLemmatizer\n",
    "import seaborn as sns\n",
    "warnings.simplefilter(action='ignore')"
   ]
  },
  {
   "cell_type": "code",
   "execution_count": 97,
   "metadata": {},
   "outputs": [
    {
     "name": "stdout",
     "output_type": "stream",
     "text": [
      "<class 'pandas.core.frame.DataFrame'>\n",
      "RangeIndex: 21525 entries, 0 to 21524\n",
      "Data columns (total 12 columns):\n",
      " #   Column            Non-Null Count  Dtype  \n",
      "---  ------            --------------  -----  \n",
      " 0   children          21525 non-null  int64  \n",
      " 1   days_employed     19351 non-null  float64\n",
      " 2   dob_years         21525 non-null  int64  \n",
      " 3   education         21525 non-null  object \n",
      " 4   education_id      21525 non-null  int64  \n",
      " 5   family_status     21525 non-null  object \n",
      " 6   family_status_id  21525 non-null  int64  \n",
      " 7   gender            21525 non-null  object \n",
      " 8   income_type       21525 non-null  object \n",
      " 9   debt              21525 non-null  int64  \n",
      " 10  total_income      19351 non-null  float64\n",
      " 11  purpose           21525 non-null  object \n",
      "dtypes: float64(2), int64(5), object(5)\n",
      "memory usage: 2.0+ MB\n"
     ]
    }
   ],
   "source": [
    "credit_df = pd.read_csv(\"/datasets/credit_scoring_eng.csv\")\n",
    "credit_df.info()"
   ]
  },
  {
   "cell_type": "markdown",
   "metadata": {},
   "source": [
    "* there is incomplete data in the 'days_employed' and 'total_income' columns.\n",
    "\n",
    "### study the data:"
   ]
  },
  {
   "cell_type": "code",
   "execution_count": 98,
   "metadata": {
    "scrolled": true
   },
   "outputs": [
    {
     "name": "stdout",
     "output_type": "stream",
     "text": [
      "children column: value_counts \n",
      "\n",
      "  0     14149\n",
      " 1      4818\n",
      " 2      2055\n",
      " 3       330\n",
      " 20       76\n",
      "-1        47\n",
      " 4        41\n",
      " 5         9\n",
      "Name: children, dtype: int64\n",
      "\n",
      "-----------------------------------------------\n",
      "\n",
      "days_employed column: sort_values \n",
      "\n",
      " 16335    -18388.949901\n",
      "4299     -17615.563266\n",
      "7329     -16593.472817\n",
      "17838    -16264.699501\n",
      "16825    -16119.687737\n",
      "             ...      \n",
      "7794     401663.850046\n",
      "2156     401674.466633\n",
      "7664     401675.093434\n",
      "10006    401715.811749\n",
      "6954     401755.400475\n",
      "Name: days_employed, Length: 19351, dtype: float64\n",
      "\n",
      "-----------------------------------------------\n",
      "\n",
      "dob_years column: count \n",
      "\n",
      " dob_years\n",
      "0     101\n",
      "19     14\n",
      "20     51\n",
      "21    111\n",
      "22    183\n",
      "23    254\n",
      "24    264\n",
      "25    357\n",
      "26    408\n",
      "27    493\n",
      "28    503\n",
      "29    545\n",
      "30    540\n",
      "31    560\n",
      "32    510\n",
      "33    581\n",
      "34    603\n",
      "35    617\n",
      "36    555\n",
      "37    537\n",
      "38    598\n",
      "39    573\n",
      "40    609\n",
      "41    607\n",
      "42    597\n",
      "43    513\n",
      "44    547\n",
      "45    497\n",
      "46    475\n",
      "47    480\n",
      "48    538\n",
      "49    508\n",
      "50    514\n",
      "51    448\n",
      "52    484\n",
      "53    459\n",
      "54    479\n",
      "55    443\n",
      "56    487\n",
      "57    460\n",
      "58    461\n",
      "59    444\n",
      "60    377\n",
      "61    355\n",
      "62    352\n",
      "63    269\n",
      "64    265\n",
      "65    194\n",
      "66    183\n",
      "67    167\n",
      "68     99\n",
      "69     85\n",
      "70     65\n",
      "71     58\n",
      "72     33\n",
      "73      8\n",
      "74      6\n",
      "75      1\n",
      "Name: dob_years, dtype: int64\n",
      "\n",
      "-----------------------------------------------\n",
      "\n",
      "education column: value_counts \n",
      "\n",
      " secondary education    13750\n",
      "bachelor's degree       4718\n",
      "SECONDARY EDUCATION      772\n",
      "Secondary Education      711\n",
      "some college             668\n",
      "BACHELOR'S DEGREE        274\n",
      "Bachelor's Degree        268\n",
      "primary education        250\n",
      "Some College              47\n",
      "SOME COLLEGE              29\n",
      "PRIMARY EDUCATION         17\n",
      "Primary Education         15\n",
      "graduate degree            4\n",
      "GRADUATE DEGREE            1\n",
      "Graduate Degree            1\n",
      "Name: education, dtype: int64\n",
      "\n"
     ]
    }
   ],
   "source": [
    "print(\"children column: value_counts \\n\\n\", credit_df['children'].value_counts())\n",
    "print(\"\\n-----------------------------------------------\")\n",
    "print(\"\\ndays_employed column: sort_values \\n\\n\", credit_df['days_employed'].dropna().sort_values())\n",
    "print(\"\\n-----------------------------------------------\")\n",
    "print(\"\\ndob_years column: count \\n\\n\", credit_df.groupby('dob_years')['dob_years'].count())\n",
    "print(\"\\n-----------------------------------------------\")\n",
    "print(\"\\neducation column: value_counts \\n\\n\", credit_df['education'].value_counts())\n",
    "\n",
    "credit_df['education_id'].value_counts()\n",
    "credit_df['family_status'].value_counts()\n",
    "credit_df['family_status_id'].value_counts()\n",
    "credit_df['gender'].value_counts()\n",
    "credit_df['income_type'].value_counts()\n",
    "credit_df['debt'].value_counts()\n",
    "credit_df['total_income'].dropna().sort_values()\n",
    "credit_df['purpose'].value_counts()\n",
    "print()"
   ]
  },
  {
   "cell_type": "markdown",
   "metadata": {},
   "source": [
    "1. cildren: there are 2 anomalies, most probably relult of a human input error. I will change -1 to 1, and 20 to 2.\n",
    "2. days_employed: there are 2174 NaN values and more corrupt data with negetive values, I will change days to years and try to fill missing values.\n",
    "3. dob_years: there are 101 pople aged 0, will change it to NaN and drop later.\n",
    "4. education: the string is writen in different variations, need to .lower() and clean.\n",
    "5. education_id, family_status, family_status_id, gender, income_type, debt and total_income: looking good.\n",
    "6. purpose: will use SnowballStemmer and/or WordNetLemmatizer to creat more general purpose categories."
   ]
  },
  {
   "cell_type": "markdown",
   "metadata": {},
   "source": [
    "## Data preprocessing\n",
    "### Processing missing values"
   ]
  },
  {
   "cell_type": "code",
   "execution_count": 99,
   "metadata": {},
   "outputs": [],
   "source": [
    "def children_fix(row):\n",
    "    children = row['children']\n",
    "    \n",
    "    if children == -1:\n",
    "        return 1\n",
    "    if children == 20:\n",
    "        return 2\n",
    "    return children \n",
    "\n",
    "def years_work_fix(row):\n",
    "    age = row['dob_years']\n",
    "    years = abs(row['days_employed'])/365.242199\n",
    "\n",
    "    if pd.isna(years) == True:\n",
    "        return float('NaN')\n",
    "    if years >= age:\n",
    "        return - years\n",
    "    return years \n",
    "\n",
    "def years_work_grouped(row):\n",
    "    years = row['years_employed_fix']\n",
    "    \n",
    "    if years < 0:\n",
    "        return -1\n",
    "    if pd.isna(years) == True:\n",
    "        return 0\n",
    "    if years <= 10:\n",
    "        return 1\n",
    "    if years <= 20:\n",
    "        return 2\n",
    "    if years <= 30:\n",
    "        return 3\n",
    "    if years <= 40:\n",
    "        return 4\n",
    "    if years <= 50:\n",
    "        return 5\n",
    "    return 6\n",
    "\n",
    "def negetive_fix(row):\n",
    "    years = row['years_employed']   \n",
    "    if years < 0:\n",
    "        return years/(-100)\n",
    "    return years\n",
    "\n",
    "def age_fix(row):\n",
    "    age = row['dob_years']\n",
    "    \n",
    "    if age == 0:\n",
    "        return float('NaN')\n",
    "    return age "
   ]
  },
  {
   "cell_type": "code",
   "execution_count": 100,
   "metadata": {},
   "outputs": [
    {
     "data": {
      "text/plain": [
       "0    14149\n",
       "1     4865\n",
       "2     2131\n",
       "3      330\n",
       "4       41\n",
       "5        9\n",
       "Name: children, dtype: int64"
      ]
     },
     "execution_count": 100,
     "metadata": {},
     "output_type": "execute_result"
    }
   ],
   "source": [
    "credit_df['children'] = credit_df.apply( children_fix , axis=1) \n",
    "credit_df['children'].value_counts()"
   ]
  },
  {
   "cell_type": "markdown",
   "metadata": {},
   "source": [
    "* children numbers look plausible."
   ]
  },
  {
   "cell_type": "code",
   "execution_count": 101,
   "metadata": {},
   "outputs": [
    {
     "data": {
      "image/png": "[encoded data removed]",
      "text/plain": [
       "<Figure size 432x288 with 1 Axes>"
      ]
     },
     "metadata": {},
     "output_type": "display_data"
    }
   ],
   "source": [
    "credit_df['years_employed'] = credit_df.apply( years_work_fix , axis=1)\n",
    "plt_data = credit_df[credit_df['years_employed']>=0 ]['years_employed']\n",
    "plt.hist(plt_data, label='work')\n",
    "plt.gca().set(title='Years of Employment Histogram', ylabel='Frequency', xlabel='years of employment')\n",
    "plt.legend();"
   ]
  },
  {
   "cell_type": "markdown",
   "metadata": {},
   "source": [
    "* Years of Employment distrebution look logical."
   ]
  },
  {
   "cell_type": "markdown",
   "metadata": {},
   "source": [
    "* there are 3519 negetive values out of 19351 enteries (~18%). i would like to find a way to use them."
   ]
  },
  {
   "cell_type": "code",
   "execution_count": 102,
   "metadata": {},
   "outputs": [
    {
     "data": {
      "text/plain": [
       "1    14496\n",
       "2     4104\n",
       "0     2174\n",
       "3      574\n",
       "4      160\n",
       "5       16\n",
       "6        1\n",
       "Name: years_work_grouped, dtype: int64"
      ]
     },
     "execution_count": 102,
     "metadata": {},
     "output_type": "execute_result"
    }
   ],
   "source": [
    "credit_df['years_employed_fix'] = credit_df.apply( negetive_fix , axis=1) \n",
    "credit_df['years_work_grouped'] = credit_df.apply( years_work_grouped , axis=1) \n",
    "credit_df['years_work_grouped'].value_counts()"
   ]
  },
  {
   "cell_type": "code",
   "execution_count": 103,
   "metadata": {},
   "outputs": [
    {
     "data": {
      "text/plain": [
       "secondary education    15233\n",
       "bachelor's degree       5260\n",
       "some college             744\n",
       "primary education        282\n",
       "graduate degree            6\n",
       "Name: education, dtype: int64"
      ]
     },
     "execution_count": 103,
     "metadata": {},
     "output_type": "execute_result"
    }
   ],
   "source": [
    "credit_df['dob_years'] = credit_df.apply( age_fix , axis=1) \n",
    "credit_df['education'] = credit_df['education'].str.lower()\n",
    "credit_df['education'].value_counts()"
   ]
  },
  {
   "cell_type": "code",
   "execution_count": 104,
   "metadata": {},
   "outputs": [
    {
     "data": {
      "text/html": [
       "<div>\n",
       "<style scoped>\n",
       "    .dataframe tbody tr th:only-of-type {\n",
       "        vertical-align: middle;\n",
       "    }\n",
       "\n",
       "    .dataframe tbody tr th {\n",
       "        vertical-align: top;\n",
       "    }\n",
       "\n",
       "    .dataframe thead th {\n",
       "        text-align: right;\n",
       "    }\n",
       "</style>\n",
       "<table border=\"1\" class=\"dataframe\">\n",
       "  <thead>\n",
       "    <tr style=\"text-align: right;\">\n",
       "      <th></th>\n",
       "      <th>children</th>\n",
       "      <th>days_employed</th>\n",
       "      <th>dob_years</th>\n",
       "      <th>education</th>\n",
       "      <th>education_id</th>\n",
       "      <th>family_status</th>\n",
       "      <th>family_status_id</th>\n",
       "      <th>gender</th>\n",
       "      <th>income_type</th>\n",
       "      <th>debt</th>\n",
       "      <th>total_income</th>\n",
       "      <th>purpose</th>\n",
       "      <th>years_employed</th>\n",
       "      <th>years_employed_fix</th>\n",
       "      <th>years_work_grouped</th>\n",
       "    </tr>\n",
       "  </thead>\n",
       "  <tbody>\n",
       "    <tr>\n",
       "      <th>0</th>\n",
       "      <td>1</td>\n",
       "      <td>-8437.673028</td>\n",
       "      <td>42.0</td>\n",
       "      <td>bachelor's degree</td>\n",
       "      <td>0</td>\n",
       "      <td>married</td>\n",
       "      <td>0</td>\n",
       "      <td>F</td>\n",
       "      <td>employee</td>\n",
       "      <td>0</td>\n",
       "      <td>40620.102</td>\n",
       "      <td>purchase of the house</td>\n",
       "      <td>23.101583</td>\n",
       "      <td>23.101583</td>\n",
       "      <td>3</td>\n",
       "    </tr>\n",
       "    <tr>\n",
       "      <th>1</th>\n",
       "      <td>1</td>\n",
       "      <td>-4024.803754</td>\n",
       "      <td>36.0</td>\n",
       "      <td>secondary education</td>\n",
       "      <td>1</td>\n",
       "      <td>married</td>\n",
       "      <td>0</td>\n",
       "      <td>F</td>\n",
       "      <td>employee</td>\n",
       "      <td>0</td>\n",
       "      <td>17932.802</td>\n",
       "      <td>car purchase</td>\n",
       "      <td>11.019547</td>\n",
       "      <td>11.019547</td>\n",
       "      <td>2</td>\n",
       "    </tr>\n",
       "    <tr>\n",
       "      <th>2</th>\n",
       "      <td>0</td>\n",
       "      <td>-5623.422610</td>\n",
       "      <td>33.0</td>\n",
       "      <td>secondary education</td>\n",
       "      <td>1</td>\n",
       "      <td>married</td>\n",
       "      <td>0</td>\n",
       "      <td>M</td>\n",
       "      <td>employee</td>\n",
       "      <td>0</td>\n",
       "      <td>23341.752</td>\n",
       "      <td>purchase of the house</td>\n",
       "      <td>15.396421</td>\n",
       "      <td>15.396421</td>\n",
       "      <td>2</td>\n",
       "    </tr>\n",
       "  </tbody>\n",
       "</table>\n",
       "</div>"
      ],
      "text/plain": [
       "   children  days_employed  dob_years            education  education_id  \\\n",
       "0         1   -8437.673028       42.0    bachelor's degree             0   \n",
       "1         1   -4024.803754       36.0  secondary education             1   \n",
       "2         0   -5623.422610       33.0  secondary education             1   \n",
       "\n",
       "  family_status  family_status_id gender income_type  debt  total_income  \\\n",
       "0       married                 0      F    employee     0     40620.102   \n",
       "1       married                 0      F    employee     0     17932.802   \n",
       "2       married                 0      M    employee     0     23341.752   \n",
       "\n",
       "                 purpose  years_employed  years_employed_fix  \\\n",
       "0  purchase of the house       23.101583           23.101583   \n",
       "1           car purchase       11.019547           11.019547   \n",
       "2  purchase of the house       15.396421           15.396421   \n",
       "\n",
       "   years_work_grouped  \n",
       "0                   3  \n",
       "1                   2  \n",
       "2                   2  "
      ]
     },
     "execution_count": 104,
     "metadata": {},
     "output_type": "execute_result"
    }
   ],
   "source": [
    "credit_df.head(3)"
   ]
  },
  {
   "cell_type": "markdown",
   "metadata": {},
   "source": [
    "* The data clean and ready for work."
   ]
  },
  {
   "cell_type": "markdown",
   "metadata": {},
   "source": [
    "### Data type replacement"
   ]
  },
  {
   "cell_type": "code",
   "execution_count": 105,
   "metadata": {},
   "outputs": [
    {
     "data": {
      "text/plain": [
       "14585      3306.762\n",
       "13006      3392.845\n",
       "16174      3418.824\n",
       "1598       3471.216\n",
       "14276      3503.298\n",
       "            ...    \n",
       "17178    273809.483\n",
       "20809    274402.943\n",
       "9169     276204.162\n",
       "19606    352136.354\n",
       "12412    362496.645\n",
       "Name: total_income, Length: 19351, dtype: float64"
      ]
     },
     "execution_count": 105,
     "metadata": {},
     "output_type": "execute_result"
    }
   ],
   "source": [
    "credit_df['total_income'].dropna().sort_values()"
   ]
  },
  {
   "cell_type": "code",
   "execution_count": 106,
   "metadata": {},
   "outputs": [],
   "source": [
    "def total_income_grouped(row):\n",
    "    income = row['total_income']\n",
    "    \n",
    "    if pd.isna(income) == True:\n",
    "        return float('NaN')\n",
    "    if income <= 10000:\n",
    "        return 1\n",
    "    if income <= 20000:\n",
    "        return 2\n",
    "    if income <= 30000:\n",
    "        return 3\n",
    "    if income <= 40000:\n",
    "        return 4\n",
    "    if income <= 50000:\n",
    "        return 5\n",
    "    if income <= 60000:\n",
    "        return 6\n",
    "    if income <= 70000:\n",
    "        return 7\n",
    "    if income <= 80000:\n",
    "        return 8\n",
    "    if income <= 90000:\n",
    "        return 9\n",
    "    return 10"
   ]
  },
  {
   "cell_type": "code",
   "execution_count": 107,
   "metadata": {},
   "outputs": [
    {
     "data": {
      "text/plain": [
       "total_income_grouped\n",
       "1.0      926\n",
       "2.0     6443\n",
       "3.0     6063\n",
       "4.0     3107\n",
       "5.0     1492\n",
       "6.0      648\n",
       "7.0      294\n",
       "8.0      156\n",
       "9.0       83\n",
       "10.0     139\n",
       "Name: total_income, dtype: int64"
      ]
     },
     "execution_count": 107,
     "metadata": {},
     "output_type": "execute_result"
    }
   ],
   "source": [
    "credit_df['total_income_grouped'] = credit_df.apply( total_income_grouped , axis=1) \n",
    "credit_df.groupby('total_income_grouped')['total_income'].count()"
   ]
  },
  {
   "cell_type": "code",
   "execution_count": 108,
   "metadata": {},
   "outputs": [
    {
     "name": "stdout",
     "output_type": "stream",
     "text": [
      "Number of different loan purposes: 38\n"
     ]
    }
   ],
   "source": [
    "print(\"Number of different loan purposes:\", len(credit_df['purpose'].value_counts()))"
   ]
  },
  {
   "cell_type": "markdown",
   "metadata": {},
   "source": [
    "* the purpose for loan is messy, need to make broader categories."
   ]
  },
  {
   "cell_type": "code",
   "execution_count": 109,
   "metadata": {},
   "outputs": [
    {
     "data": {
      "text/plain": [
       "housing      10840\n",
       "car           4315\n",
       "education     4022\n",
       "wedding       2348\n",
       "Name: purpose_grouped, dtype: int64"
      ]
     },
     "execution_count": 109,
     "metadata": {},
     "output_type": "execute_result"
    }
   ],
   "source": [
    "wordnet_lemma = WordNetLemmatizer() \n",
    "\n",
    "def purpose_grouped(row):\n",
    "    purpose = row['purpose']\n",
    "    words = nltk.word_tokenize(purpose)\n",
    "    lemmas = [wordnet_lemma.lemmatize(w, pos = 'n') for w in words]\n",
    "    \n",
    "    housing = ['house', 'housing', 'estate', 'property' ]       #1\n",
    "    car = ['car']                                               #2\n",
    "    education = ['education' , 'educated', 'university']        #3\n",
    "    wedding = ['wedding' ]                                      #4 \n",
    " \n",
    "    if any(item in housing for item in lemmas):\n",
    "        return 'housing'\n",
    "    if any(item in car for item in lemmas):\n",
    "        return 'car'\n",
    "    if any(item in education for item in lemmas):\n",
    "        return 'education'\n",
    "    if any(item in wedding for item in lemmas):\n",
    "        return 'wedding'\n",
    "    print(lemmas) \n",
    "    return -1\n",
    "\n",
    "credit_df['purpose_grouped'] = credit_df.apply( purpose_grouped , axis=1) \n",
    "credit_df['purpose_grouped'].value_counts()"
   ]
  },
  {
   "cell_type": "code",
   "execution_count": 110,
   "metadata": {},
   "outputs": [
    {
     "data": {
      "text/html": [
       "<div>\n",
       "<style scoped>\n",
       "    .dataframe tbody tr th:only-of-type {\n",
       "        vertical-align: middle;\n",
       "    }\n",
       "\n",
       "    .dataframe tbody tr th {\n",
       "        vertical-align: top;\n",
       "    }\n",
       "\n",
       "    .dataframe thead th {\n",
       "        text-align: right;\n",
       "    }\n",
       "</style>\n",
       "<table border=\"1\" class=\"dataframe\">\n",
       "  <thead>\n",
       "    <tr style=\"text-align: right;\">\n",
       "      <th></th>\n",
       "      <th>children</th>\n",
       "      <th>days_employed</th>\n",
       "      <th>dob_years</th>\n",
       "      <th>education</th>\n",
       "      <th>education_id</th>\n",
       "      <th>family_status</th>\n",
       "      <th>family_status_id</th>\n",
       "      <th>gender</th>\n",
       "      <th>income_type</th>\n",
       "      <th>debt</th>\n",
       "      <th>total_income</th>\n",
       "      <th>purpose</th>\n",
       "      <th>years_employed</th>\n",
       "      <th>years_employed_fix</th>\n",
       "      <th>years_work_grouped</th>\n",
       "      <th>total_income_grouped</th>\n",
       "      <th>purpose_grouped</th>\n",
       "    </tr>\n",
       "  </thead>\n",
       "  <tbody>\n",
       "    <tr>\n",
       "      <th>0</th>\n",
       "      <td>1</td>\n",
       "      <td>-8437.673028</td>\n",
       "      <td>42.0</td>\n",
       "      <td>bachelor's degree</td>\n",
       "      <td>0</td>\n",
       "      <td>married</td>\n",
       "      <td>0</td>\n",
       "      <td>F</td>\n",
       "      <td>employee</td>\n",
       "      <td>0</td>\n",
       "      <td>40620.102</td>\n",
       "      <td>purchase of the house</td>\n",
       "      <td>23.101583</td>\n",
       "      <td>23.101583</td>\n",
       "      <td>3</td>\n",
       "      <td>5.0</td>\n",
       "      <td>housing</td>\n",
       "    </tr>\n",
       "    <tr>\n",
       "      <th>1</th>\n",
       "      <td>1</td>\n",
       "      <td>-4024.803754</td>\n",
       "      <td>36.0</td>\n",
       "      <td>secondary education</td>\n",
       "      <td>1</td>\n",
       "      <td>married</td>\n",
       "      <td>0</td>\n",
       "      <td>F</td>\n",
       "      <td>employee</td>\n",
       "      <td>0</td>\n",
       "      <td>17932.802</td>\n",
       "      <td>car purchase</td>\n",
       "      <td>11.019547</td>\n",
       "      <td>11.019547</td>\n",
       "      <td>2</td>\n",
       "      <td>2.0</td>\n",
       "      <td>car</td>\n",
       "    </tr>\n",
       "    <tr>\n",
       "      <th>2</th>\n",
       "      <td>0</td>\n",
       "      <td>-5623.422610</td>\n",
       "      <td>33.0</td>\n",
       "      <td>secondary education</td>\n",
       "      <td>1</td>\n",
       "      <td>married</td>\n",
       "      <td>0</td>\n",
       "      <td>M</td>\n",
       "      <td>employee</td>\n",
       "      <td>0</td>\n",
       "      <td>23341.752</td>\n",
       "      <td>purchase of the house</td>\n",
       "      <td>15.396421</td>\n",
       "      <td>15.396421</td>\n",
       "      <td>2</td>\n",
       "      <td>3.0</td>\n",
       "      <td>housing</td>\n",
       "    </tr>\n",
       "  </tbody>\n",
       "</table>\n",
       "</div>"
      ],
      "text/plain": [
       "   children  days_employed  dob_years            education  education_id  \\\n",
       "0         1   -8437.673028       42.0    bachelor's degree             0   \n",
       "1         1   -4024.803754       36.0  secondary education             1   \n",
       "2         0   -5623.422610       33.0  secondary education             1   \n",
       "\n",
       "  family_status  family_status_id gender income_type  debt  total_income  \\\n",
       "0       married                 0      F    employee     0     40620.102   \n",
       "1       married                 0      F    employee     0     17932.802   \n",
       "2       married                 0      M    employee     0     23341.752   \n",
       "\n",
       "                 purpose  years_employed  years_employed_fix  \\\n",
       "0  purchase of the house       23.101583           23.101583   \n",
       "1           car purchase       11.019547           11.019547   \n",
       "2  purchase of the house       15.396421           15.396421   \n",
       "\n",
       "   years_work_grouped  total_income_grouped purpose_grouped  \n",
       "0                   3                   5.0         housing  \n",
       "1                   2                   2.0             car  \n",
       "2                   2                   3.0         housing  "
      ]
     },
     "execution_count": 110,
     "metadata": {},
     "output_type": "execute_result"
    }
   ],
   "source": [
    "credit_df.head(3)"
   ]
  },
  {
   "cell_type": "markdown",
   "metadata": {},
   "source": [
    "* We made general groups for loan based on purpose.\n",
    "* We grouped by income and years worked."
   ]
  },
  {
   "cell_type": "markdown",
   "metadata": {},
   "source": [
    "### Processing duplicates"
   ]
  },
  {
   "cell_type": "code",
   "execution_count": 111,
   "metadata": {},
   "outputs": [],
   "source": [
    "credit_df = credit_df.drop_duplicates() "
   ]
  },
  {
   "cell_type": "markdown",
   "metadata": {},
   "source": [
    "* we have cleared 71 duplicates.\n"
   ]
  },
  {
   "cell_type": "markdown",
   "metadata": {},
   "source": [
    "## Answer questions abot the data"
   ]
  },
  {
   "cell_type": "markdown",
   "metadata": {},
   "source": [
    "### Is there a relation between having kids and repaying a loan on time?"
   ]
  },
  {
   "cell_type": "code",
   "execution_count": 113,
   "metadata": {
    "scrolled": true
   },
   "outputs": [
    {
     "name": "stdout",
     "output_type": "stream",
     "text": [
      "precent of people with debt out of all: 8.12%\n",
      "precent of people with debt out of people with children: 9.21%\n",
      "people with children are 13.47% more likly to defaulted on a loan.\n"
     ]
    }
   ],
   "source": [
    "def children_yn(row):\n",
    "    children = row['children']\n",
    "    \n",
    "    if children == 0:\n",
    "        return 0\n",
    "    return 1\n",
    "\n",
    "credit_df['children_yn'] = credit_df.apply( children_yn , axis=1) \n",
    "\n",
    "# i chose to count 'gender' because there is no Nulls in it.\n",
    "debt_all = credit_df[credit_df['debt'] == 1 ]['gender'].count()/ credit_df['gender'].count()\n",
    "debt_children = credit_df[(credit_df['debt'] == 1 ) & (credit_df['children_yn'] == 1 )]['gender'].count()/credit_df[credit_df['children_yn'] == 1]['gender'].count()\n",
    "ratio = debt_children/debt_all\n",
    "\n",
    "print(\"precent of people with debt out of all: {:.2f}%\".format(debt_all*100))\n",
    "print(\"precent of people with debt out of people with children: {:.2f}%\".format(debt_children*100))\n",
    "print(\"people with children are {:.2f}% more likly to defaulted on a loan.\".format(ratio*100 -100))"
   ]
  },
  {
   "cell_type": "markdown",
   "metadata": {},
   "source": [
    "* people with children are 13.47% more likly to defaulted on a loan."
   ]
  },
  {
   "cell_type": "markdown",
   "metadata": {},
   "source": [
    "### Is there a relation between marital status and repaying a loan on time?"
   ]
  },
  {
   "cell_type": "code",
   "execution_count": 114,
   "metadata": {},
   "outputs": [
    {
     "name": "stdout",
     "output_type": "stream",
     "text": [
      "unmarried            1.201583\n",
      "civil partnership    1.151830\n",
      "married              0.929778\n",
      "divorced             0.876517\n",
      "widow / widower      0.809527\n",
      "Name: family_status, dtype: float64\n"
     ]
    }
   ],
   "source": [
    "print((credit_df[credit_df['debt'] == 1 ]['family_status'].value_counts()/(credit_df['family_status'].value_counts()*debt_all)).sort_values(ascending = False))"
   ]
  },
  {
   "cell_type": "markdown",
   "metadata": {},
   "source": [
    "* yes there is a relation between marital status and repaying a loan on time, unmerried are the worst at repaying a loan on time,\n",
    "while widow / widower are the best at repaying a loan on time in relation to the whole population.\n"
   ]
  },
  {
   "cell_type": "markdown",
   "metadata": {},
   "source": [
    "### Is there a relation between income level and repaying a loan on time?"
   ]
  },
  {
   "cell_type": "code",
   "execution_count": 115,
   "metadata": {},
   "outputs": [
    {
     "data": {
      "image/png": "[encoded data removed]",
      "text/plain": [
       "<Figure size 864x360 with 1 Axes>"
      ]
     },
     "metadata": {},
     "output_type": "display_data"
    }
   ],
   "source": [
    "all_grouped = credit_df.groupby('total_income_grouped')['total_income'].count()\n",
    "debt_grouped = credit_df[credit_df['debt'] == 1].groupby('total_income_grouped')['total_income'].count()\n",
    "df = pd.DataFrame(debt_grouped/(all_grouped*debt_all)).reset_index()\n",
    "\n",
    "sns.set(style='white')\n",
    "plt.figure(figsize=(12, 5))\n",
    "ax = sns.barplot(x='total_income_grouped', y='total_income', data=df, ci=None, palette=sns.color_palette('pastel'))\n",
    "\n",
    "for bar in ax.patches:\n",
    "    ax.annotate(format(bar.get_height(), '.3f'),\n",
    "                   (bar.get_x() + bar.get_width() / 2,\n",
    "                   bar.get_height()), ha='center', va='center',\n",
    "                   size=9, xytext=(0, 5),\n",
    "                   textcoords='offset points')\n",
    "    \n",
    "plt.title('Likelihood of defaulting on a debt:', size=14)\n",
    "plt.xlabel(\"Income in tens of thousands (10,000)\", size=12)\n",
    "plt.ylabel('Likelihood of defaulting on a debt', size=12)\n",
    "plt.show();"
   ]
  },
  {
   "cell_type": "markdown",
   "metadata": {},
   "source": [
    "* It seems like people that earn less than 10,000 a month are better at repaying loans on time in relation to the whole population.\n",
    "    \n",
    "* It also seems like people that earn more than 60,000 a month are better at repaying loans on time in relation to the whole population.\n"
   ]
  },
  {
   "cell_type": "markdown",
   "metadata": {},
   "source": [
    "### How do different loan purposes affect on-time repayment of the loan?"
   ]
  },
  {
   "cell_type": "code",
   "execution_count": 116,
   "metadata": {},
   "outputs": [
    {
     "name": "stdout",
     "output_type": "stream",
     "text": [
      "purpose_grouped\n",
      "car          1.153295\n",
      "education    1.136167\n",
      "housing      0.891354\n",
      "wedding      0.986248\n",
      "Name: purpose_grouped, dtype: float64\n"
     ]
    }
   ],
   "source": [
    "purposes_grouped = credit_df.groupby('purpose_grouped')['purpose_grouped'].count()\n",
    "purposes_debt_grouped = credit_df[credit_df['debt'] == 1].groupby('purpose_grouped')['purpose_grouped'].count()\n",
    "print(purposes_debt_grouped/(purposes_grouped*debt_all))"
   ]
  },
  {
   "cell_type": "markdown",
   "metadata": {},
   "source": [
    "* It seems like people that take a loan for housing purposes tend to repaying loans on time in relation to the whole population.\n",
    "    \n",
    "* It seems like people that take a loan for car/education purposes tend to not repaying loans on time in relation to the whole population."
   ]
  },
  {
   "cell_type": "markdown",
   "metadata": {},
   "source": [
    "## General conclusion"
   ]
  },
  {
   "cell_type": "markdown",
   "metadata": {},
   "source": [
    "* There are alot of parameters that can determin the liklihood of borrower to defualt on his debt.\n",
    "* The more data parameters we have and more then we can make better predictions.\n",
    "* For the data that we have present we can detarmin that the safest candidate for a loan is: \n",
    "1. Childless widow /widower \n",
    "2. Earn more than 60,000. \n",
    "3. Loan purpose: housing.\n",
    "\n",
    "* There are 8 of those individuals in our data."
   ]
  }
 ],
 "metadata": {
  "ExecuteTimeLog": [
   {
    "duration": 42,
    "start_time": "2021-10-11T06:47:21.743Z"
   },
   {
    "duration": 1934,
    "start_time": "2021-10-11T06:47:27.375Z"
   },
   {
    "duration": 3724,
    "start_time": "2021-10-11T06:51:19.261Z"
   },
   {
    "duration": 224,
    "start_time": "2021-10-11T06:53:08.129Z"
   },
   {
    "duration": 210,
    "start_time": "2021-10-11T06:53:22.135Z"
   },
   {
    "duration": 214,
    "start_time": "2021-10-11T06:54:49.441Z"
   },
   {
    "duration": 208,
    "start_time": "2021-10-11T06:55:10.230Z"
   },
   {
    "duration": 242,
    "start_time": "2021-10-11T06:55:19.675Z"
   },
   {
    "duration": 63,
    "start_time": "2021-10-11T06:57:15.362Z"
   },
   {
    "duration": 8567,
    "start_time": "2021-10-11T07:01:13.865Z"
   },
   {
    "duration": 69,
    "start_time": "2021-10-11T07:04:04.261Z"
   },
   {
    "duration": 71,
    "start_time": "2021-10-11T07:09:56.738Z"
   },
   {
    "duration": 284,
    "start_time": "2021-10-11T07:10:29.200Z"
   },
   {
    "duration": 290,
    "start_time": "2021-10-11T07:12:12.185Z"
   },
   {
    "duration": 294,
    "start_time": "2021-10-11T07:13:28.498Z"
   },
   {
    "duration": 303,
    "start_time": "2021-10-11T07:13:37.106Z"
   },
   {
    "duration": 288,
    "start_time": "2021-10-11T07:13:44.416Z"
   },
   {
    "duration": 70,
    "start_time": "2021-10-11T07:13:50.331Z"
   },
   {
    "duration": 69,
    "start_time": "2021-10-11T07:18:38.332Z"
   },
   {
    "duration": 72,
    "start_time": "2021-10-11T07:18:55.656Z"
   },
   {
    "duration": 71,
    "start_time": "2021-10-11T07:19:47.991Z"
   },
   {
    "duration": 79,
    "start_time": "2021-10-11T07:21:00.215Z"
   },
   {
    "duration": 74,
    "start_time": "2021-10-11T07:21:20.453Z"
   },
   {
    "duration": 70,
    "start_time": "2021-10-11T07:21:42.206Z"
   },
   {
    "duration": 73,
    "start_time": "2021-10-11T07:22:42.917Z"
   },
   {
    "duration": 79,
    "start_time": "2021-10-11T07:23:36.057Z"
   },
   {
    "duration": 81,
    "start_time": "2021-10-11T07:34:33.546Z"
   },
   {
    "duration": 98,
    "start_time": "2021-10-11T07:40:48.863Z"
   },
   {
    "duration": 494,
    "start_time": "2021-10-11T07:41:03.011Z"
   },
   {
    "duration": 482,
    "start_time": "2021-10-11T07:42:15.577Z"
   },
   {
    "duration": 651,
    "start_time": "2021-10-11T07:46:23.477Z"
   },
   {
    "duration": 459,
    "start_time": "2021-10-11T07:46:48.005Z"
   },
   {
    "duration": 662,
    "start_time": "2021-10-11T07:47:45.076Z"
   },
   {
    "duration": 700,
    "start_time": "2021-10-11T07:54:07.687Z"
   },
   {
    "duration": 882,
    "start_time": "2021-10-11T07:58:49.983Z"
   },
   {
    "duration": 1020,
    "start_time": "2021-10-11T07:59:21.285Z"
   },
   {
    "duration": 1014,
    "start_time": "2021-10-11T08:00:15.197Z"
   },
   {
    "duration": 1330,
    "start_time": "2021-10-11T08:03:40.002Z"
   },
   {
    "duration": 1121,
    "start_time": "2021-10-11T08:03:53.236Z"
   },
   {
    "duration": 1035,
    "start_time": "2021-10-11T08:05:24.755Z"
   },
   {
    "duration": 1043,
    "start_time": "2021-10-11T08:05:38.813Z"
   },
   {
    "duration": 1049,
    "start_time": "2021-10-11T08:06:06.938Z"
   },
   {
    "duration": 1058,
    "start_time": "2021-10-11T08:06:58.886Z"
   },
   {
    "duration": 1134,
    "start_time": "2021-10-11T08:07:57.989Z"
   },
   {
    "duration": 1047,
    "start_time": "2021-10-11T08:09:53.588Z"
   },
   {
    "duration": 1133,
    "start_time": "2021-10-11T08:12:10.830Z"
   },
   {
    "duration": 1054,
    "start_time": "2021-10-11T08:15:29.185Z"
   },
   {
    "duration": 1052,
    "start_time": "2021-10-11T08:27:47.676Z"
   },
   {
    "duration": 90,
    "start_time": "2021-10-11T08:33:09.914Z"
   },
   {
    "duration": 1441,
    "start_time": "2021-10-11T08:33:16.896Z"
   },
   {
    "duration": 2231,
    "start_time": "2021-10-11T08:40:25.908Z"
   },
   {
    "duration": 1962,
    "start_time": "2021-10-11T08:42:36.160Z"
   },
   {
    "duration": 2206,
    "start_time": "2021-10-11T08:46:08.608Z"
   },
   {
    "duration": 2167,
    "start_time": "2021-10-11T08:47:47.940Z"
   },
   {
    "duration": 2227,
    "start_time": "2021-10-11T08:48:24.227Z"
   },
   {
    "duration": 68,
    "start_time": "2021-10-11T08:51:45.618Z"
   },
   {
    "duration": 76,
    "start_time": "2021-10-11T08:52:41.444Z"
   },
   {
    "duration": 76,
    "start_time": "2021-10-11T08:56:33.906Z"
   },
   {
    "duration": 387,
    "start_time": "2021-10-11T08:56:54.877Z"
   },
   {
    "duration": 76,
    "start_time": "2021-10-11T08:57:09.798Z"
   },
   {
    "duration": 75,
    "start_time": "2021-10-11T08:57:42.318Z"
   },
   {
    "duration": 2423,
    "start_time": "2021-10-11T08:58:22.554Z"
   },
   {
    "duration": 80,
    "start_time": "2021-10-11T09:02:29.411Z"
   },
   {
    "duration": 79,
    "start_time": "2021-10-11T09:05:09.702Z"
   },
   {
    "duration": 78,
    "start_time": "2021-10-11T09:05:42.693Z"
   },
   {
    "duration": 302,
    "start_time": "2021-10-11T09:06:08.147Z"
   },
   {
    "duration": 76,
    "start_time": "2021-10-11T09:06:17.770Z"
   },
   {
    "duration": 305,
    "start_time": "2021-10-11T09:07:08.851Z"
   },
   {
    "duration": 76,
    "start_time": "2021-10-11T09:07:24.837Z"
   },
   {
    "duration": 76,
    "start_time": "2021-10-11T09:07:35.409Z"
   },
   {
    "duration": 294,
    "start_time": "2021-10-11T09:11:21.289Z"
   },
   {
    "duration": 76,
    "start_time": "2021-10-11T09:11:42.968Z"
   },
   {
    "duration": 78,
    "start_time": "2021-10-11T09:14:55.362Z"
   },
   {
    "duration": 74,
    "start_time": "2021-10-11T09:15:15.831Z"
   },
   {
    "duration": 351,
    "start_time": "2021-10-11T09:16:23.913Z"
   },
   {
    "duration": 94,
    "start_time": "2021-10-11T09:16:46.868Z"
   },
   {
    "duration": 80,
    "start_time": "2021-10-11T09:17:13.228Z"
   },
   {
    "duration": 78,
    "start_time": "2021-10-11T09:19:18.531Z"
   },
   {
    "duration": 80,
    "start_time": "2021-10-11T09:21:24.767Z"
   },
   {
    "duration": 86,
    "start_time": "2021-10-11T09:22:07.695Z"
   },
   {
    "duration": 85,
    "start_time": "2021-10-11T09:23:33.372Z"
   },
   {
    "duration": 92,
    "start_time": "2021-10-11T09:25:48.846Z"
   },
   {
    "duration": 93,
    "start_time": "2021-10-11T09:26:57.421Z"
   },
   {
    "duration": 96,
    "start_time": "2021-10-11T09:27:49.395Z"
   },
   {
    "duration": 99,
    "start_time": "2021-10-11T09:28:16.368Z"
   },
   {
    "duration": 333,
    "start_time": "2021-10-11T09:33:02.943Z"
   },
   {
    "duration": 107,
    "start_time": "2021-10-11T09:33:10.853Z"
   },
   {
    "duration": 101,
    "start_time": "2021-10-11T10:42:18.510Z"
   },
   {
    "duration": 2577,
    "start_time": "2021-10-11T10:46:55.992Z"
   },
   {
    "duration": 2709,
    "start_time": "2021-10-11T10:47:34.550Z"
   },
   {
    "duration": 2508,
    "start_time": "2021-10-11T10:47:50.569Z"
   },
   {
    "duration": 2463,
    "start_time": "2021-10-11T10:48:18.009Z"
   },
   {
    "duration": 2474,
    "start_time": "2021-10-11T10:49:49.693Z"
   },
   {
    "duration": 3020,
    "start_time": "2021-10-11T10:50:47.532Z"
   },
   {
    "duration": 2753,
    "start_time": "2021-10-11T10:52:33.627Z"
   },
   {
    "duration": 2570,
    "start_time": "2021-10-11T10:54:23.168Z"
   },
   {
    "duration": 2517,
    "start_time": "2021-10-11T10:55:33.750Z"
   },
   {
    "duration": 12,
    "start_time": "2021-10-11T10:58:47.297Z"
   },
   {
    "duration": 2523,
    "start_time": "2021-10-11T10:58:58.665Z"
   },
   {
    "duration": 3140,
    "start_time": "2021-10-11T10:59:32.456Z"
   },
   {
    "duration": 15,
    "start_time": "2021-10-11T11:09:15.764Z"
   },
   {
    "duration": 20,
    "start_time": "2021-10-11T11:12:56.578Z"
   },
   {
    "duration": 19,
    "start_time": "2021-10-11T11:13:14.345Z"
   },
   {
    "duration": 18,
    "start_time": "2021-10-11T11:14:46.451Z"
   },
   {
    "duration": 21,
    "start_time": "2021-10-11T11:15:14.405Z"
   },
   {
    "duration": 20,
    "start_time": "2021-10-11T11:15:46.415Z"
   },
   {
    "duration": 21,
    "start_time": "2021-10-11T11:16:15.259Z"
   },
   {
    "duration": 242,
    "start_time": "2021-10-11T11:19:18.338Z"
   },
   {
    "duration": 23,
    "start_time": "2021-10-11T11:20:16.443Z"
   },
   {
    "duration": 25,
    "start_time": "2021-10-11T11:20:59.365Z"
   },
   {
    "duration": 27,
    "start_time": "2021-10-11T11:21:25.347Z"
   },
   {
    "duration": 382,
    "start_time": "2021-10-11T11:25:53.935Z"
   },
   {
    "duration": 392,
    "start_time": "2021-10-11T11:27:20.221Z"
   },
   {
    "duration": 455,
    "start_time": "2021-10-11T11:29:54.440Z"
   },
   {
    "duration": 386,
    "start_time": "2021-10-11T11:31:08.039Z"
   },
   {
    "duration": 387,
    "start_time": "2021-10-11T11:31:54.993Z"
   },
   {
    "duration": 424,
    "start_time": "2021-10-11T11:32:55.790Z"
   },
   {
    "duration": 668,
    "start_time": "2021-10-11T11:33:44.718Z"
   },
   {
    "duration": 475,
    "start_time": "2021-10-11T11:34:55.814Z"
   },
   {
    "duration": 656,
    "start_time": "2021-10-11T11:35:19.084Z"
   },
   {
    "duration": 543,
    "start_time": "2021-10-11T11:36:48.615Z"
   },
   {
    "duration": 1657,
    "start_time": "2021-10-11T11:44:50.749Z"
   },
   {
    "duration": 13226,
    "start_time": "2021-10-11T11:45:56.212Z"
   },
   {
    "duration": 5376,
    "start_time": "2021-10-11T11:56:11.895Z"
   },
   {
    "duration": 5276,
    "start_time": "2021-10-11T11:57:03.874Z"
   },
   {
    "duration": 5984,
    "start_time": "2021-10-11T11:57:17.640Z"
   },
   {
    "duration": 4768,
    "start_time": "2021-10-11T12:00:29.323Z"
   },
   {
    "duration": 5468,
    "start_time": "2021-10-11T12:02:28.428Z"
   },
   {
    "duration": 34,
    "start_time": "2021-10-11T12:07:43.716Z"
   },
   {
    "duration": 30,
    "start_time": "2021-10-11T12:08:17.829Z"
   },
   {
    "duration": 4388,
    "start_time": "2021-10-11T12:09:47.316Z"
   },
   {
    "duration": 4642,
    "start_time": "2021-10-11T12:10:11.976Z"
   },
   {
    "duration": 4621,
    "start_time": "2021-10-11T12:10:43.700Z"
   },
   {
    "duration": 4682,
    "start_time": "2021-10-11T12:11:05.391Z"
   },
   {
    "duration": 4892,
    "start_time": "2021-10-11T12:11:41.451Z"
   },
   {
    "duration": 5069,
    "start_time": "2021-10-11T12:12:36.253Z"
   },
   {
    "duration": 5889,
    "start_time": "2021-10-11T12:12:56.897Z"
   },
   {
    "duration": 5595,
    "start_time": "2021-10-11T12:13:55.483Z"
   },
   {
    "duration": 5196,
    "start_time": "2021-10-11T12:14:26.293Z"
   },
   {
    "duration": 31,
    "start_time": "2021-10-11T12:14:59.402Z"
   },
   {
    "duration": 50,
    "start_time": "2021-10-11T12:17:24.165Z"
   },
   {
    "duration": 60,
    "start_time": "2021-10-11T12:18:43.575Z"
   },
   {
    "duration": 50,
    "start_time": "2021-10-11T12:23:48.041Z"
   },
   {
    "duration": 43,
    "start_time": "2021-10-11T12:24:59.277Z"
   },
   {
    "duration": 41,
    "start_time": "2021-10-11T12:26:11.973Z"
   },
   {
    "duration": 15,
    "start_time": "2021-10-11T12:26:17.157Z"
   },
   {
    "duration": 333,
    "start_time": "2021-10-11T12:32:30.708Z"
   },
   {
    "duration": 662,
    "start_time": "2021-10-11T12:33:41.579Z"
   },
   {
    "duration": 11711,
    "start_time": "2021-10-11T12:34:13.573Z"
   },
   {
    "duration": 4311,
    "start_time": "2021-10-11T12:34:28.651Z"
   },
   {
    "duration": 19,
    "start_time": "2021-10-11T12:36:51.144Z"
   },
   {
    "duration": 505,
    "start_time": "2021-10-11T12:44:22.466Z"
   },
   {
    "duration": 627,
    "start_time": "2021-10-11T12:45:20.544Z"
   },
   {
    "duration": 106,
    "start_time": "2021-10-11T12:45:40.339Z"
   },
   {
    "duration": 669,
    "start_time": "2021-10-11T12:45:45.408Z"
   },
   {
    "duration": 397,
    "start_time": "2021-10-11T12:45:58.362Z"
   },
   {
    "duration": 398,
    "start_time": "2021-10-11T12:46:49.716Z"
   },
   {
    "duration": 403,
    "start_time": "2021-10-11T12:47:37.459Z"
   },
   {
    "duration": 422,
    "start_time": "2021-10-11T12:51:46.635Z"
   },
   {
    "duration": 403,
    "start_time": "2021-10-11T12:52:09.526Z"
   },
   {
    "duration": 640,
    "start_time": "2021-10-11T12:54:48.618Z"
   },
   {
    "duration": 659,
    "start_time": "2021-10-11T12:55:12.524Z"
   },
   {
    "duration": 81,
    "start_time": "2021-10-11T12:57:36.440Z"
   },
   {
    "duration": 623,
    "start_time": "2021-10-11T12:58:16.538Z"
   },
   {
    "duration": 414,
    "start_time": "2021-10-11T12:58:33.908Z"
   },
   {
    "duration": 417,
    "start_time": "2021-10-11T12:59:37.062Z"
   },
   {
    "duration": 621,
    "start_time": "2021-10-11T13:01:24.671Z"
   },
   {
    "duration": 413,
    "start_time": "2021-10-11T13:01:43.051Z"
   },
   {
    "duration": 75,
    "start_time": "2021-10-11T13:03:22.424Z"
   },
   {
    "duration": 435,
    "start_time": "2021-10-11T13:03:31.818Z"
   },
   {
    "duration": 398,
    "start_time": "2021-10-11T13:05:25.550Z"
   },
   {
    "duration": 404,
    "start_time": "2021-10-11T13:06:17.997Z"
   },
   {
    "duration": 413,
    "start_time": "2021-10-11T13:06:32.738Z"
   },
   {
    "duration": 389,
    "start_time": "2021-10-11T13:06:48.898Z"
   },
   {
    "duration": 81,
    "start_time": "2021-10-11T13:08:42.120Z"
   },
   {
    "duration": 387,
    "start_time": "2021-10-11T13:08:47.067Z"
   },
   {
    "duration": 483,
    "start_time": "2021-10-11T13:09:27.225Z"
   },
   {
    "duration": 12,
    "start_time": "2021-10-11T13:15:30.655Z"
   },
   {
    "duration": 14,
    "start_time": "2021-10-11T13:15:42.847Z"
   },
   {
    "duration": 13,
    "start_time": "2021-10-11T13:16:09.775Z"
   },
   {
    "duration": 15,
    "start_time": "2021-10-11T13:18:08.722Z"
   },
   {
    "duration": 15,
    "start_time": "2021-10-11T13:19:22.699Z"
   },
   {
    "duration": 14,
    "start_time": "2021-10-11T13:20:13.731Z"
   },
   {
    "duration": 14,
    "start_time": "2021-10-11T13:20:34.703Z"
   },
   {
    "duration": 14,
    "start_time": "2021-10-11T13:21:58.700Z"
   },
   {
    "duration": 17,
    "start_time": "2021-10-11T13:22:27.722Z"
   },
   {
    "duration": 14,
    "start_time": "2021-10-11T13:22:35.049Z"
   },
   {
    "duration": 14,
    "start_time": "2021-10-11T13:26:38.062Z"
   },
   {
    "duration": 15,
    "start_time": "2021-10-11T13:26:42.940Z"
   },
   {
    "duration": 14,
    "start_time": "2021-10-11T13:27:30.860Z"
   },
   {
    "duration": 15,
    "start_time": "2021-10-11T13:30:00.251Z"
   },
   {
    "duration": 75,
    "start_time": "2021-10-11T13:31:10.348Z"
   },
   {
    "duration": 7,
    "start_time": "2021-10-11T13:31:20.590Z"
   },
   {
    "duration": 8,
    "start_time": "2021-10-11T13:32:13.488Z"
   },
   {
    "duration": 12,
    "start_time": "2021-10-11T13:34:14.820Z"
   },
   {
    "duration": 14,
    "start_time": "2021-10-11T13:35:03.665Z"
   },
   {
    "duration": 13,
    "start_time": "2021-10-11T13:35:12.900Z"
   },
   {
    "duration": 14,
    "start_time": "2021-10-11T13:42:20.446Z"
   },
   {
    "duration": 13,
    "start_time": "2021-10-11T13:45:01.828Z"
   },
   {
    "duration": 16,
    "start_time": "2021-10-11T13:46:26.670Z"
   },
   {
    "duration": 12,
    "start_time": "2021-10-11T13:46:48.584Z"
   },
   {
    "duration": 14,
    "start_time": "2021-10-11T13:49:08.265Z"
   },
   {
    "duration": 12,
    "start_time": "2021-10-11T13:49:50.258Z"
   },
   {
    "duration": 13,
    "start_time": "2021-10-11T13:49:56.684Z"
   },
   {
    "duration": 12,
    "start_time": "2021-10-11T13:52:20.627Z"
   },
   {
    "duration": 76,
    "start_time": "2021-10-11T14:09:47.665Z"
   },
   {
    "duration": 19,
    "start_time": "2021-10-11T14:10:01.353Z"
   },
   {
    "duration": 20,
    "start_time": "2021-10-11T14:10:28.395Z"
   },
   {
    "duration": 19,
    "start_time": "2021-10-11T14:24:49.041Z"
   },
   {
    "duration": 18,
    "start_time": "2021-10-11T14:26:02.270Z"
   },
   {
    "duration": 18,
    "start_time": "2021-10-11T14:27:15.260Z"
   },
   {
    "duration": 864,
    "start_time": "2021-10-11T15:43:10.543Z"
   },
   {
    "duration": 2741,
    "start_time": "2021-10-11T15:43:11.410Z"
   },
   {
    "duration": 7371,
    "start_time": "2021-10-11T15:43:14.158Z"
   },
   {
    "duration": 43,
    "start_time": "2021-10-11T15:43:21.532Z"
   },
   {
    "duration": 429,
    "start_time": "2021-10-11T15:43:21.578Z"
   },
   {
    "duration": 13,
    "start_time": "2021-10-11T15:43:22.010Z"
   },
   {
    "duration": 31,
    "start_time": "2021-10-11T15:43:22.026Z"
   },
   {
    "duration": 16,
    "start_time": "2021-10-11T15:43:22.060Z"
   },
   {
    "duration": 632,
    "start_time": "2022-04-19T14:37:45.273Z"
   },
   {
    "duration": 101,
    "start_time": "2022-04-19T14:38:16.813Z"
   },
   {
    "duration": 68,
    "start_time": "2022-04-19T14:39:21.303Z"
   },
   {
    "duration": 8,
    "start_time": "2022-04-19T14:39:40.373Z"
   },
   {
    "duration": 14,
    "start_time": "2022-04-19T14:40:29.272Z"
   },
   {
    "duration": 33,
    "start_time": "2022-04-19T14:44:43.311Z"
   },
   {
    "duration": 32,
    "start_time": "2022-04-19T14:44:51.612Z"
   },
   {
    "duration": 10,
    "start_time": "2022-04-19T14:45:12.580Z"
   },
   {
    "duration": 35,
    "start_time": "2022-04-19T14:46:07.650Z"
   },
   {
    "duration": 38,
    "start_time": "2022-04-19T14:47:15.119Z"
   },
   {
    "duration": 38,
    "start_time": "2022-04-19T14:48:19.093Z"
   },
   {
    "duration": 40,
    "start_time": "2022-04-19T14:49:15.964Z"
   },
   {
    "duration": 44,
    "start_time": "2022-04-19T14:52:00.362Z"
   },
   {
    "duration": 41,
    "start_time": "2022-04-19T14:52:55.472Z"
   },
   {
    "duration": 1622,
    "start_time": "2022-04-19T14:53:11.396Z"
   },
   {
    "duration": 23,
    "start_time": "2022-04-19T14:53:36.673Z"
   },
   {
    "duration": 21,
    "start_time": "2022-04-19T14:53:58.622Z"
   },
   {
    "duration": 1655,
    "start_time": "2022-04-19T14:58:47.834Z"
   },
   {
    "duration": 1655,
    "start_time": "2022-04-19T14:58:55.115Z"
   },
   {
    "duration": 7682,
    "start_time": "2022-04-19T14:59:09.023Z"
   },
   {
    "duration": 464,
    "start_time": "2022-04-20T07:42:26.714Z"
   },
   {
    "duration": 54,
    "start_time": "2022-04-20T07:52:23.303Z"
   },
   {
    "duration": 38,
    "start_time": "2022-04-20T07:52:24.184Z"
   },
   {
    "duration": 179,
    "start_time": "2022-04-20T07:54:24.783Z"
   },
   {
    "duration": 199,
    "start_time": "2022-04-20T07:55:36.422Z"
   },
   {
    "duration": 218,
    "start_time": "2022-04-20T07:55:55.894Z"
   },
   {
    "duration": 582,
    "start_time": "2022-04-20T08:00:15.363Z"
   },
   {
    "duration": 220,
    "start_time": "2022-04-20T08:01:25.634Z"
   },
   {
    "duration": 139,
    "start_time": "2022-04-20T08:01:28.884Z"
   },
   {
    "duration": 139,
    "start_time": "2022-04-20T08:02:20.563Z"
   },
   {
    "duration": 123,
    "start_time": "2022-04-20T08:02:30.343Z"
   },
   {
    "duration": 79,
    "start_time": "2022-04-20T08:08:29.264Z"
   },
   {
    "duration": 222,
    "start_time": "2022-04-20T08:08:45.818Z"
   },
   {
    "duration": 12,
    "start_time": "2022-04-20T08:09:00.653Z"
   },
   {
    "duration": 12,
    "start_time": "2022-04-20T08:09:08.343Z"
   },
   {
    "duration": 13,
    "start_time": "2022-04-20T08:09:18.583Z"
   },
   {
    "duration": 0,
    "start_time": "2022-04-20T08:11:01.825Z"
   },
   {
    "duration": 149,
    "start_time": "2022-04-20T08:14:16.823Z"
   },
   {
    "duration": 111,
    "start_time": "2022-04-20T08:14:31.753Z"
   },
   {
    "duration": 112,
    "start_time": "2022-04-20T08:14:34.733Z"
   },
   {
    "duration": 141,
    "start_time": "2022-04-20T08:14:40.652Z"
   },
   {
    "duration": 138,
    "start_time": "2022-04-20T08:14:44.743Z"
   },
   {
    "duration": 124,
    "start_time": "2022-04-20T08:14:52.233Z"
   },
   {
    "duration": 332,
    "start_time": "2022-04-20T08:16:31.023Z"
   },
   {
    "duration": 59,
    "start_time": "2022-04-20T08:17:13.223Z"
   },
   {
    "duration": 29,
    "start_time": "2022-04-20T08:17:14.153Z"
   },
   {
    "duration": 143,
    "start_time": "2022-04-20T08:17:15.262Z"
   },
   {
    "duration": 328,
    "start_time": "2022-04-20T08:17:15.563Z"
   },
   {
    "duration": 335,
    "start_time": "2022-04-20T08:18:28.783Z"
   },
   {
    "duration": 343,
    "start_time": "2022-04-20T08:19:07.094Z"
   },
   {
    "duration": 4,
    "start_time": "2022-04-20T08:23:12.652Z"
   },
   {
    "duration": 146,
    "start_time": "2022-04-20T08:23:13.352Z"
   },
   {
    "duration": 9,
    "start_time": "2022-04-20T08:23:45.862Z"
   },
   {
    "duration": 270,
    "start_time": "2022-04-20T08:25:49.792Z"
   },
   {
    "duration": 6,
    "start_time": "2022-04-20T08:31:01.404Z"
   },
   {
    "duration": 281,
    "start_time": "2022-04-20T08:31:03.572Z"
   },
   {
    "duration": 21,
    "start_time": "2022-04-20T08:31:23.052Z"
   },
   {
    "duration": 145,
    "start_time": "2022-04-20T08:31:41.522Z"
   },
   {
    "duration": 5,
    "start_time": "2022-04-20T08:32:57.232Z"
   },
   {
    "duration": 267,
    "start_time": "2022-04-20T08:32:57.942Z"
   },
   {
    "duration": 5,
    "start_time": "2022-04-20T08:33:27.062Z"
   },
   {
    "duration": 269,
    "start_time": "2022-04-20T08:33:27.542Z"
   },
   {
    "duration": 126,
    "start_time": "2022-04-20T08:33:35.852Z"
   },
   {
    "duration": 6,
    "start_time": "2022-04-20T08:36:22.742Z"
   },
   {
    "duration": 137,
    "start_time": "2022-04-20T08:36:23.072Z"
   },
   {
    "duration": 332,
    "start_time": "2022-04-20T08:36:24.972Z"
   },
   {
    "duration": 271,
    "start_time": "2022-04-20T08:36:27.693Z"
   },
   {
    "duration": 138,
    "start_time": "2022-04-20T08:36:45.292Z"
   },
   {
    "duration": 141,
    "start_time": "2022-04-20T08:38:08.392Z"
   },
   {
    "duration": 16,
    "start_time": "2022-04-20T08:38:55.482Z"
   },
   {
    "duration": 8,
    "start_time": "2022-04-20T08:42:45.271Z"
   },
   {
    "duration": 4,
    "start_time": "2022-04-20T08:42:45.522Z"
   },
   {
    "duration": 148,
    "start_time": "2022-04-20T08:42:45.722Z"
   },
   {
    "duration": 8,
    "start_time": "2022-04-20T08:43:35.102Z"
   },
   {
    "duration": 934,
    "start_time": "2022-04-20T08:45:20.482Z"
   },
   {
    "duration": 28,
    "start_time": "2022-04-20T08:45:23.282Z"
   },
   {
    "duration": 6,
    "start_time": "2022-04-20T08:45:23.933Z"
   },
   {
    "duration": 144,
    "start_time": "2022-04-20T08:45:24.142Z"
   },
   {
    "duration": 346,
    "start_time": "2022-04-20T08:45:24.581Z"
   },
   {
    "duration": 280,
    "start_time": "2022-04-20T08:45:25.262Z"
   },
   {
    "duration": 158,
    "start_time": "2022-04-20T08:45:25.544Z"
   },
   {
    "duration": 15,
    "start_time": "2022-04-20T08:45:25.751Z"
   },
   {
    "duration": 10,
    "start_time": "2022-04-20T08:45:27.342Z"
   },
   {
    "duration": 4,
    "start_time": "2022-04-20T08:45:28.503Z"
   },
   {
    "duration": 157,
    "start_time": "2022-04-20T08:45:30.264Z"
   },
   {
    "duration": 8,
    "start_time": "2022-04-20T08:45:30.622Z"
   },
   {
    "duration": 3914,
    "start_time": "2022-04-20T08:46:16.613Z"
   },
   {
    "duration": 1943,
    "start_time": "2022-04-20T08:47:29.214Z"
   },
   {
    "duration": 14,
    "start_time": "2022-04-20T08:47:51.743Z"
   },
   {
    "duration": 25,
    "start_time": "2022-04-20T08:48:40.854Z"
   },
   {
    "duration": 143,
    "start_time": "2022-04-20T08:49:37.973Z"
   },
   {
    "duration": 8,
    "start_time": "2022-04-20T08:53:48.814Z"
   },
   {
    "duration": 60,
    "start_time": "2022-04-20T08:55:07.704Z"
   },
   {
    "duration": 81,
    "start_time": "2022-04-20T08:55:23.293Z"
   },
   {
    "duration": 7,
    "start_time": "2022-04-20T08:57:16.810Z"
   },
   {
    "duration": 7,
    "start_time": "2022-04-20T08:57:18.592Z"
   },
   {
    "duration": 5,
    "start_time": "2022-04-20T09:00:11.104Z"
   },
   {
    "duration": 4,
    "start_time": "2022-04-20T09:00:43.544Z"
   },
   {
    "duration": 18,
    "start_time": "2022-04-20T09:03:08.884Z"
   },
   {
    "duration": 17,
    "start_time": "2022-04-20T09:03:23.984Z"
   },
   {
    "duration": 8,
    "start_time": "2022-04-20T09:03:40.184Z"
   },
   {
    "duration": 7,
    "start_time": "2022-04-20T09:03:41.975Z"
   },
   {
    "duration": 205,
    "start_time": "2022-04-20T09:03:49.084Z"
   },
   {
    "duration": 195,
    "start_time": "2022-04-20T09:04:05.324Z"
   },
   {
    "duration": 198,
    "start_time": "2022-04-20T09:04:14.394Z"
   },
   {
    "duration": 183,
    "start_time": "2022-04-20T09:04:56.734Z"
   },
   {
    "duration": 196,
    "start_time": "2022-04-20T09:05:17.184Z"
   },
   {
    "duration": 192,
    "start_time": "2022-04-20T09:06:32.983Z"
   },
   {
    "duration": 202,
    "start_time": "2022-04-20T09:07:01.184Z"
   },
   {
    "duration": 3,
    "start_time": "2022-04-20T09:07:38.774Z"
   },
   {
    "duration": 14,
    "start_time": "2022-04-20T09:11:43.029Z"
   },
   {
    "duration": 11,
    "start_time": "2022-04-20T09:13:16.744Z"
   },
   {
    "duration": 6,
    "start_time": "2022-04-20T09:15:57.594Z"
   },
   {
    "duration": 6,
    "start_time": "2022-04-20T09:16:07.864Z"
   },
   {
    "duration": 5,
    "start_time": "2022-04-20T09:17:10.779Z"
   },
   {
    "duration": 3,
    "start_time": "2022-04-20T09:18:32.504Z"
   },
   {
    "duration": 52,
    "start_time": "2022-04-20T09:18:32.664Z"
   },
   {
    "duration": 25,
    "start_time": "2022-04-20T09:18:32.924Z"
   },
   {
    "duration": 6,
    "start_time": "2022-04-20T09:18:33.344Z"
   },
   {
    "duration": 135,
    "start_time": "2022-04-20T09:18:33.504Z"
   },
   {
    "duration": 351,
    "start_time": "2022-04-20T09:18:33.784Z"
   },
   {
    "duration": 274,
    "start_time": "2022-04-20T09:18:34.224Z"
   },
   {
    "duration": 155,
    "start_time": "2022-04-20T09:18:34.500Z"
   },
   {
    "duration": 14,
    "start_time": "2022-04-20T09:18:34.657Z"
   },
   {
    "duration": 9,
    "start_time": "2022-04-20T09:18:34.954Z"
   },
   {
    "duration": 3,
    "start_time": "2022-04-20T09:18:35.124Z"
   },
   {
    "duration": 147,
    "start_time": "2022-04-20T09:18:35.304Z"
   },
   {
    "duration": 6,
    "start_time": "2022-04-20T09:18:35.463Z"
   },
   {
    "duration": 1930,
    "start_time": "2022-04-20T09:18:35.934Z"
   },
   {
    "duration": 14,
    "start_time": "2022-04-20T09:18:37.866Z"
   },
   {
    "duration": 32,
    "start_time": "2022-04-20T09:18:37.881Z"
   },
   {
    "duration": 138,
    "start_time": "2022-04-20T09:18:42.853Z"
   },
   {
    "duration": 149,
    "start_time": "2022-04-20T09:18:53.438Z"
   },
   {
    "duration": 11,
    "start_time": "2022-04-20T09:18:54.173Z"
   },
   {
    "duration": 225,
    "start_time": "2022-04-20T09:18:54.974Z"
   },
   {
    "duration": 10,
    "start_time": "2022-04-20T09:18:55.824Z"
   }
  ],
  "kernelspec": {
   "display_name": "Python 3 (ipykernel)",
   "language": "python",
   "name": "python3"
  },
  "language_info": {
   "codemirror_mode": {
    "name": "ipython",
    "version": 3
   },
   "file_extension": ".py",
   "mimetype": "text/x-python",
   "name": "python",
   "nbconvert_exporter": "python",
   "pygments_lexer": "ipython3",
   "version": "3.9.5"
  },
  "toc": {
   "base_numbering": 1,
   "nav_menu": {},
   "number_sections": true,
   "sideBar": true,
   "skip_h1_title": true,
   "title_cell": "Table of Contents",
   "title_sidebar": "Contents",
   "toc_cell": false,
   "toc_position": {},
   "toc_section_display": true,
   "toc_window_display": false
  }
 },
 "nbformat": 4,
 "nbformat_minor": 2
}
